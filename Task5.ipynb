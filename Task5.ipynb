{
 "cells": [
  {
   "cell_type": "code",
   "execution_count": 1,
   "id": "aa0d5836-57c2-4fa8-988e-b64ae6a8d8ef",
   "metadata": {},
   "outputs": [],
   "source": [
    "import pandas as pd\n",
    "import numpy as np\n",
    "import matplotlib.pyplot as plt\n",
    "\n",
    "\n",
    "\n"
   ]
  },
  {
   "cell_type": "code",
   "execution_count": 2,
   "id": "7e98cff0-0d73-42b3-9ed9-820409e71e57",
   "metadata": {},
   "outputs": [],
   "source": [
    "class CarPricePredictor:\n",
    "    def __init__(self, file_path):\n",
    "        self.carset = pd.read_csv(file_path)\n",
    "        self.preprocess_data()\n",
    "        self.m = self.X.shape[0]\n",
    "        self.n = self.X.shape[1]\n",
    "        self.w = np.zeros(self.n) \n",
    "        self.b = 0\n",
    "        self.cost_history = [] \n",
    "\n",
    "    def preprocess_data(self):\n",
    "       \n",
    "        self.carset = pd.get_dummies(self.carset, columns=[\n",
    "            'fueltype', 'aspiration', 'doornumber', 'carbody', \n",
    "            'drivewheel', 'enginelocation', 'enginetype', \n",
    "            'cylindernumber', 'fuelsystem'])\n",
    "       \n",
    "        self.carset = self.carset.replace({True: 1, False: 0})\n",
    "       \n",
    "        self.X = self.carset[list(self.carset.columns.difference(['price', 'CarName', 'car_ID']))].values\n",
    "        self.Y = self.carset['price'].values\n",
    "       \n",
    "        self.X = (self.X - self.X.mean(axis=0)) / self.X.std(axis=0)\n",
    "\n",
    "    def compute_cost(self):\n",
    "        \n",
    "        total_cost = 0\n",
    "        for i in range(self.m):\n",
    "            prediction = np.dot(self.X[i], self.w) + self.b\n",
    "            total_cost += (prediction - self.Y[i]) ** 2\n",
    "        return total_cost / (2 * self.m)\n",
    "\n",
    "    def gradient_descent(self, alpha, iterations):\n",
    "        for _ in range(iterations):\n",
    "            dw = np.zeros(self.n)\n",
    "            db = 0\n",
    "            \n",
    "            for i in range(self.m): \n",
    "                prediction = np.dot(self.X[i], self.w) + self.b\n",
    "                error = prediction - self.Y[i]\n",
    "                dw += (1/self.m) * error * self.X[i] \n",
    "                db += (1/self.m) * error\n",
    "           \n",
    "            self.w -= alpha * dw\n",
    "            self.b -= alpha * db\n",
    "           \n",
    "            cost = self.compute_cost()\n",
    "            self.cost_history.append(cost)\n",
    "\n",
    "    def predict(self, X):\n",
    "        return np.dot(X, self.w) + self.b\n",
    "\n",
    "    def R2score(self):\n",
    "        SSres = 0  \n",
    "        SStot = 0  \n",
    "        mean_y = self.Y.mean()  \n",
    "       \n",
    "        for i in range(self.m):\n",
    "            yhat = self.predict(self.X[i]) \n",
    "            SSres += (self.Y[i] - yhat) ** 2  \n",
    "            SStot += (self.Y[i] - mean_y) ** 2 \n",
    "        return 1 - (SSres / SStot)\n"
   ]
  },
  {
   "cell_type": "code",
   "execution_count": 4,
   "id": "cfee4138-6e8d-4001-aa8e-253ac701fcc5",
   "metadata": {},
   "outputs": [
    {
     "name": "stderr",
     "output_type": "stream",
     "text": [
      "C:\\Users\\pkmna\\AppData\\Local\\Temp\\ipykernel_4344\\1797004774.py:18: FutureWarning: Downcasting behavior in `replace` is deprecated and will be removed in a future version. To retain the old behavior, explicitly call `result.infer_objects(copy=False)`. To opt-in to the future behavior, set `pd.set_option('future.no_silent_downcasting', True)`\n",
      "  self.carset = self.carset.replace({True: 1, False: 0})\n"
     ]
    },
    {
     "name": "stdout",
     "output_type": "stream",
     "text": [
      "Learned weights (w): [ -286.65463028   286.65463028  -444.53843429   456.61888264\n",
      "  -124.42158465  -283.09728227   282.81027778  -182.58627036\n",
      "   169.42375793  -836.69298716  1340.48628449  -820.46886759\n",
      " -1311.93758094  2163.16013377  1350.31408624  -253.77259686\n",
      "  -854.89776826   410.55979314   466.07170755  -261.81914813\n",
      "   428.77967967   -58.71451259    58.71451259   -75.5140609\n",
      "  -165.91192917   201.26085721  -425.90494406   425.90494406\n",
      "  4501.88388197  -237.54139599  -738.88402747  -289.92215863\n",
      "  1067.29430664   108.01113886 -1601.58725772   428.77967967\n",
      "    22.63017449    52.92586847  -145.24453868   570.38458087\n",
      "  -218.18894768  -110.12370421  -529.26203435   -44.82129322\n",
      "   570.38458087  -570.38458087  1074.60885852   896.97734716\n",
      "   928.52775954 -1314.54517196    62.02724388   356.35999849]\n",
      "Learned bias (b): 13276.710570731704\n",
      "R2 score is 0.939079\n"
     ]
    },
    {
     "data": {
      "image/png": "[encoded data removed]",
      "text/plain": [
       "<Figure size 640x480 with 1 Axes>"
      ]
     },
     "metadata": {},
     "output_type": "display_data"
    }
   ],
   "source": [
    "if __name__ == \"__main__\":\n",
    "   \n",
    "    file_path = r\"C:\\Users\\pkmna\\OneDrive\\Documents\\carprice.csv\"\n",
    "    \n",
    "   \n",
    "    predictor = CarPricePredictor(file_path)\n",
    "    \n",
    "    \n",
    "    predictor.gradient_descent(alpha=0.1, iterations=1000)\n",
    "    \n",
    "  \n",
    "    print(\"Learned weights (w):\", predictor.w)\n",
    "    print(\"Learned bias (b):\", predictor.b)\n",
    "    \n",
    "   \n",
    "    print(\"R2 score is %f\" % predictor.R2score())\n",
    "    \n",
    "   \n",
    "    plt.plot(predictor.cost_history)\n",
    "    plt.title(\"Iteration vs Cost (MSE)\")\n",
    "    plt.xlabel(\"Iterations\")\n",
    "    plt.ylabel(\"Mean Squared Error\")\n",
    "    plt.show()"
   ]
  },
  {
   "cell_type": "code",
   "execution_count": null,
   "id": "b9b8d80c-f6c4-4057-984e-58fb24b677fe",
   "metadata": {},
   "outputs": [],
   "source": []
  }
 ],
 "metadata": {
  "kernelspec": {
   "display_name": "Python 3 (ipykernel)",
   "language": "python",
   "name": "python3"
  },
  "language_info": {
   "codemirror_mode": {
    "name": "ipython",
    "version": 3
   },
   "file_extension": ".py",
   "mimetype": "text/x-python",
   "name": "python",
   "nbconvert_exporter": "python",
   "pygments_lexer": "ipython3",
   "version": "3.12.3"
  }
 },
 "nbformat": 4,
 "nbformat_minor": 5
}
